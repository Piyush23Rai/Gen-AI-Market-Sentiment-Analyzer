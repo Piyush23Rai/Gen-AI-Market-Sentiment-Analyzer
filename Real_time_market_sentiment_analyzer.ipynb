{
 "cells": [
  {
   "cell_type": "markdown",
   "id": "5a2ec505",
   "metadata": {},
   "source": [
    "# Real-Time Market Sentiment Analyzer\n",
    "This notebook implements a LangChain-powered pipeline to analyze real-time market sentiment for a given company."
   ]
  },
  {
   "cell_type": "code",
   "execution_count": 1,
   "id": "e901ec06",
   "metadata": {},
   "outputs": [],
   "source": [
    "# Install necessary packages for LangChain and Google Gemini-2.0-flash\n",
    "!python -m pip install langchain langchain-core langchain-community langchain-experimental --quiet\n",
    "!python -m pip install -U langchain-google-genai --quiet\n",
    "!python -m pip install mlflow --quiet\n",
    "!python -m pip install yahooquery --quiet\n",
    "!python -m pip install mlflow --quiet"
   ]
  },
  {
   "cell_type": "code",
   "execution_count": 1,
   "id": "d69d767f",
   "metadata": {},
   "outputs": [
    {
     "data": {
      "text/plain": [
       "True"
      ]
     },
     "execution_count": 1,
     "metadata": {},
     "output_type": "execute_result"
    }
   ],
   "source": [
    "from dotenv import load_dotenv\n",
    "load_dotenv(override=True)"
   ]
  },
  {
   "cell_type": "markdown",
   "id": "2ebbd5c9",
   "metadata": {},
   "source": [
    "## Step 1: Accept Company Name Input"
   ]
  },
  {
   "cell_type": "code",
   "execution_count": 2,
   "id": "b6b7dac0",
   "metadata": {},
   "outputs": [],
   "source": [
    "def get_input():\n",
    "    company_name = input(\"Enter Company Name (e.g., 'Google Inc'): \")\n",
    "    return company_name"
   ]
  },
  {
   "cell_type": "markdown",
   "id": "25b60442",
   "metadata": {},
   "source": [
    "## Step 2: Stock Symbol Lookup"
   ]
  },
  {
   "cell_type": "code",
   "execution_count": 3,
   "id": "a41a1edf",
   "metadata": {},
   "outputs": [],
   "source": [
    "from yahooquery import search\n",
    "\n",
    "def get_stock_symbol(company_name: str) -> str:\n",
    "    # Attempt to search\n",
    "    try:\n",
    "        result = search(company_name)\n",
    "        stock_symbol = result['quotes'][0]['symbol']\n",
    "        return stock_symbol\n",
    "    except Exception as e:\n",
    "        print(f\"Error looking up stock symbol: {e}\")\n",
    "    # Fallback\n",
    "    static_mapping = {\n",
    "        \"Apple Inc\": \"AAPL\",\n",
    "        \"Google Inc\": \"GOOG\",\n",
    "        \"Microsoft Corporation\": \"MSFT\"\n",
    "    }\n",
    "    return static_mapping.get(company_name, \"UNKNOWN\")"
   ]
  },
  {
   "cell_type": "markdown",
   "id": "8cf532c2",
   "metadata": {},
   "source": [
    "## Step 3: Fetch Company News"
   ]
  },
  {
   "cell_type": "code",
   "execution_count": 4,
   "id": "8b35e2a5",
   "metadata": {},
   "outputs": [
    {
     "name": "stderr",
     "output_type": "stream",
     "text": [
      "USER_AGENT environment variable not set, consider setting it to identify your requests.\n"
     ]
    }
   ],
   "source": [
    "from langchain_community.tools.yahoo_finance_news import YahooFinanceNewsTool\n",
    "\n",
    "# Initialize the Yahoo Finance News Tool\n",
    "news_tool = YahooFinanceNewsTool()\n",
    "\n",
    "def get_company_news(stock_code: str) -> str:\n",
    "    # This tool directly accepts the stock ticker\n",
    "    return news_tool.run(stock_code)"
   ]
  },
  {
   "cell_type": "code",
   "execution_count": 5,
   "id": "83335c1c",
   "metadata": {},
   "outputs": [
    {
     "data": {
      "text/plain": [
       "'Apple (AAPL) iPhone 17 Launch Spurs Buy Rating, $275 Price Target\\nApple Inc. (NASDAQ:AAPL) is one of the Trending AI Stocks on Wall Street. On September 10, TD Cowen analyst Krish Sankar reiterated a Buy rating and $275.00 price target on the stock following Apple’s iPhone 17 launch event. According to the analyst, core iPhone updates were expected but there were pleasant surprises as well. These include […]\\n\\nTim Cook Says Apple Will Invest $600 Billion In US Manufacturing, Creating A \\'Domino Effect\\' As iPhone 17 Pre-Orders Show Strong Momentum\\nApple Inc. (NASDAQ:AAPL) CEO Tim Cook said the company\\'s record $600 billion investment in U.S. manufacturing over the next four years will benefit 79 factories nationwide and spark a \"domino effect\" of growth, as early data points to strong iPhone 17 ...'"
      ]
     },
     "execution_count": 5,
     "metadata": {},
     "output_type": "execute_result"
    }
   ],
   "source": [
    "# test\n",
    "get_company_news(\"AAPL\")"
   ]
  },
  {
   "cell_type": "code",
   "execution_count": 6,
   "id": "8f4a27bb",
   "metadata": {},
   "outputs": [],
   "source": [
    "from langchain.tools import tool\n",
    "\n",
    "# A simple chain that takes company_name and returns a dict\n",
    "@tool\n",
    "def get_stock_info(company_name: str) -> dict:\n",
    "    \"\"\"\n",
    "    Given a company name, returns its stock code and latest news summary.\n",
    "    \"\"\"\n",
    "    stock_code = get_stock_symbol(company_name)\n",
    "    news_summary = get_company_news(stock_code)\n",
    "    return {\n",
    "        \"company_name\": company_name,\n",
    "        \"stock_code\": stock_code,\n",
    "        \"news_summary\": news_summary\n",
    "    }"
   ]
  },
  {
   "cell_type": "markdown",
   "id": "3fc02d53",
   "metadata": {},
   "source": [
    "## Step 4: Sentiment Analysis Prompt with Google Gemini-2.0-flash"
   ]
  },
  {
   "cell_type": "code",
   "execution_count": 12,
   "id": "f4335da2",
   "metadata": {},
   "outputs": [
    {
     "name": "stderr",
     "output_type": "stream",
     "text": [
      "2025/09/17 16:07:58 INFO mlflow.tracking.fluent: Experiment with name 'Market Sentiment Analysis Piyush' does not exist. Creating a new experiment.\n",
      "2025/09/17 16:08:02 INFO mlflow.store.model_registry.abstract_store: Waiting up to 300 seconds for prompt version to finish creation. Prompt name: market-sentiment-analysis-prompt, version 3\n"
     ]
    }
   ],
   "source": [
    "from langchain_core.prompts import PromptTemplate\n",
    "from langchain.chat_models import init_chat_model\n",
    "from langchain.output_parsers import StructuredOutputParser, ResponseSchema\n",
    "import mlflow\n",
    "\n",
    "tracking_uri = input(\"Enter mlflow tracking uri: \")\n",
    "\n",
    "if tracking_uri is None or tracking_uri == \"\":\n",
    "    tracking_uri = \"http://20.75.92.162:5000/\" # fallback \n",
    "mlflow.set_tracking_uri(tracking_uri)\n",
    "\n",
    "# Define the structured output parser\n",
    "response_schemas = [\n",
    "    ResponseSchema(name=\"company_name\", description=\"Name of the company\"),\n",
    "    ResponseSchema(name=\"stock_code\", description=\"Stock ticker code\"),\n",
    "    ResponseSchema(name=\"newsdesc\", description=\"Concise news summary\"),\n",
    "    ResponseSchema(name=\"sentiment\", description=\"Positive/Negative/Neutral\"),\n",
    "    ResponseSchema(name=\"people_names\", description=\"List of person names\"),\n",
    "    ResponseSchema(name=\"places_names\", description=\"List of place names\"),\n",
    "    ResponseSchema(name=\"other_companies_referred\", description=\"List of other companies\"),\n",
    "    ResponseSchema(name=\"related_industries\", description=\"Related industries\"),\n",
    "    ResponseSchema(name=\"market_implications\", description=\"Market implications\"),\n",
    "    ResponseSchema(name=\"confidence_score\", description=\"Confidence in the result\"),\n",
    "]\n",
    "\n",
    "output_parser = StructuredOutputParser.from_response_schemas(response_schemas)\n",
    "\n",
    "# Prompt Template\n",
    "prompt_template = PromptTemplate(\n",
    "    input_variables=[\"company_name\", \"stock_code\", \"news_summary\"],\n",
    "    template=\"\"\"\n",
    "Given the following news summary: \"{news_summary}\", analyze the market sentiment for the company \"{company_name}\" (Stock Code: {stock_code}).\n",
    "Return the structured JSON according to the following format:\n",
    "{output_format}\n",
    "\"\"\",\n",
    "    partial_variables={\"output_format\": output_parser.get_format_instructions()}\n",
    ")\n",
    "\n",
    "#set experiment \n",
    "mlflow.set_experiment(\"Market Sentiment Analysis Piyush\")\n",
    "\n",
    "# Register the prompt in MLflow GenAI registry\n",
    "mlflow.genai.register_prompt(\n",
    "    name=\"market-sentiment-analysis-prompt\",\n",
    "    template=prompt_template,\n",
    "    commit_message=\"Initial commit of market sentiment analysis prompt\",\n",
    "    tags={\n",
    "        \"author\": \"Piyush Rai\",\n",
    "        \"task\": \"market_sentiment_analysis\",\n",
    "        \"language\": \"en\",\n",
    "        \"llm\": \"gemini-2.0-flash\"\n",
    "    },\n",
    ")\n",
    "\n",
    "\n",
    "# # Load the prompt by specifying the version\n",
    "# registered_prompt = mlflow.genai.load_prompt(\n",
    "#     \"prompts:/market-sentiment-analysis-prompt/1\"\n",
    "# )\n",
    "\n",
    "# # Create the final prompt template using the loaded prompt template string\n",
    "# prompt_template = PromptTemplate(\n",
    "#     input_variables=[\"company_name\", \"stock_code\", \"news_summary\"],\n",
    "#     template=registered_prompt.template,\n",
    "#     partial_variables={\"output_format\": output_parser.get_format_instructions()}\n",
    "# )\n",
    "\n",
    "# Initialize Google Gemini Model\n",
    "model_name = model_name='gemini-2.0-flash'\n",
    "llm_model = init_chat_model(model_name, model_provider=\"google_genai\")\n",
    "\n",
    "# Assemble Chain Components\n",
    "sentiment_analysis_chain = prompt_template | llm_model | output_parser\n"
   ]
  },
  {
   "cell_type": "markdown",
   "id": "ae8ee320",
   "metadata": {},
   "source": [
    "## Step 5: Run the pipeline with mlflow"
   ]
  },
  {
   "cell_type": "code",
   "execution_count": 24,
   "id": "00ea0dee",
   "metadata": {},
   "outputs": [],
   "source": [
    "import time \n",
    "import json\n",
    "\n",
    "def run_pipeline_with_mlflow(company_name: str):\n",
    "    run_name = f\"Sentiment_Analysis_{company_name.replace(' ', '_')}\"\n",
    "    with mlflow.start_run(run_name=run_name) as run:\n",
    "        mlflow.log_param(\"input_company_name\", company_name)\n",
    "\n",
    "        # Stock code extraction span\n",
    "        start = time.time()\n",
    "        stock_code = get_stock_symbol(company_name)\n",
    "        end = time.time()\n",
    "        stock_code_duration = end - start\n",
    "        mlflow.log_param(\"stock_code\", stock_code)\n",
    "        mlflow.log_metric(\"stock_code_extraction_duration_sec\", stock_code_duration)\n",
    "\n",
    "        # News fetching span\n",
    "        start = time.time()\n",
    "        news_summary = get_company_news(stock_code)\n",
    "        end = time.time()\n",
    "        news_fetching_duration = end - start\n",
    "        mlflow.log_text(news_summary, \"fetched_news.txt\")\n",
    "        mlflow.log_metric(\"news_fetching_duration_sec\", news_fetching_duration)\n",
    "\n",
    "        info_dict = {\n",
    "            \"company_name\": company_name,\n",
    "            \"stock_code\": stock_code,\n",
    "            \"news_summary\": news_summary\n",
    "        }\n",
    "\n",
    "        # Log full prompt\n",
    "        prompt_str = prompt_template.format(\n",
    "            company_name=info_dict[\"company_name\"],\n",
    "            stock_code=info_dict[\"stock_code\"],\n",
    "            news_summary=info_dict[\"news_summary\"],\n",
    "            output_format=output_parser.get_format_instructions()\n",
    "        )\n",
    "        mlflow.log_text(prompt_str, \"sent_prompt.txt\")\n",
    "\n",
    "        # Sentiment parsing span\n",
    "        start = time.time()\n",
    "        final_output = sentiment_analysis_chain.invoke(info_dict)\n",
    "        end = time.time()\n",
    "        sentiment_parsing_duration = end - start\n",
    "        mlflow.log_text(json.dumps(final_output, indent=2), \"sentiment_analysis_output.json\")\n",
    "        mlflow.log_metric(\"sentiment_parsing_duration_sec\", sentiment_parsing_duration)\n",
    "\n",
    "        # Log total duration explicitly\n",
    "        total_duration = stock_code_duration + news_fetching_duration + sentiment_parsing_duration\n",
    "        mlflow.log_metric(\"total_pipeline_duration_sec\", total_duration)\n",
    "\n",
    "        return final_output"
   ]
  },
  {
   "cell_type": "code",
   "execution_count": null,
   "id": "823eb9c0",
   "metadata": {},
   "outputs": [],
   "source": [
    "result = run_pipeline_with_mlflow(get_input())\n",
    "print(json.dumps(result, indent=2))"
   ]
  },
  {
   "cell_type": "code",
   "execution_count": null,
   "id": "4f443a6b",
   "metadata": {},
   "outputs": [],
   "source": []
  }
 ],
 "metadata": {
  "kernelspec": {
   "display_name": "genai",
   "language": "python",
   "name": "python3"
  },
  "language_info": {
   "codemirror_mode": {
    "name": "ipython",
    "version": 3
   },
   "file_extension": ".py",
   "mimetype": "text/x-python",
   "name": "python",
   "nbconvert_exporter": "python",
   "pygments_lexer": "ipython3",
   "version": "3.11.13"
  }
 },
 "nbformat": 4,
 "nbformat_minor": 5
}
